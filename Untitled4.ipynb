{
  "nbformat": 4,
  "nbformat_minor": 0,
  "metadata": {
    "colab": {
      "provenance": [],
      "authorship_tag": "ABX9TyOU1G92RbbG7gZPxO2RTn9B",
      "include_colab_link": true
    },
    "kernelspec": {
      "name": "python3",
      "display_name": "Python 3"
    },
    "language_info": {
      "name": "python"
    }
  },
  "cells": [
    {
      "cell_type": "markdown",
      "metadata": {
        "id": "view-in-github",
        "colab_type": "text"
      },
      "source": [
        "<a href=\"https://colab.research.google.com/github/Masumak47/Recipe-Management-System/blob/main/Untitled4.ipynb\" target=\"_parent\"><img src=\"https://colab.research.google.com/assets/colab-badge.svg\" alt=\"Open In Colab\"/></a>"
      ]
    },
    {
      "cell_type": "code",
      "execution_count": 21,
      "metadata": {
        "id": "uwI6cWcmbC4c"
      },
      "outputs": [],
      "source": [
        "import csv\n",
        "\n",
        "fields = ['ID','Recipe Name', 'Ingredients', 'Steps', 'Cuisine', 'Prep Time']\n",
        "filename = \"recipes.csv\"\n",
        "\n",
        "with open(filename, 'w', newline='') as csvfile:\n",
        "    csvwriter = csv.writer(csvfile)\n",
        "    csvwriter.writerow(fields)\n",
        "def add_recipe():\n",
        "    ID=input(\"Enter the ID Number :\")\n",
        "    recipe_name = input(\"Enter the recipe name: \")\n",
        "    ingredients = input(\"Enter the ingredients (comma-separated): \")\n",
        "    steps = input(\"Enter the steps: \")\n",
        "    prep_time = input(\"Enter preparation time: \")\n",
        "    cuisine = input(\"Enter cuisine: \")\n",
        "    new_recipe = {\n",
        "        \"ID\":ID,\n",
        "        \"Recipe Name\": recipe_name,\n",
        "        \"Ingredients\": ingredients,\n",
        "        \"Steps\": steps,\n",
        "        \"Cuisine\": cuisine,\n",
        "        \"Prep Time\": prep_time\n",
        "    }\n",
        "    recipes = load_recipes()\n",
        "    recipes.append(new_recipe)\n",
        "    save_recipes(recipes)\n",
        "    print(f\"Recipe '{recipe_name}' has been added successfully!\")"
      ]
    }
  ]
}